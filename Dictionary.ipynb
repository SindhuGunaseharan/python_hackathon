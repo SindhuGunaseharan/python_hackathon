{
 "cells": [
  {
   "cell_type": "code",
   "execution_count": 1,
   "id": "e0f5e634",
   "metadata": {},
   "outputs": [
    {
     "name": "stdout",
     "output_type": "stream",
     "text": [
      "<class 'dict'>\n"
     ]
    }
   ],
   "source": [
    "#A dictionary is a collection which is ordered*, changeable and do not allow duplicates.\n",
    "p={\"name\":\"Ammu\", \"Age\":\"30\"\n",
    "  }\n",
    "print(type(p))"
   ]
  },
  {
   "cell_type": "code",
   "execution_count": 2,
   "id": "931649d4",
   "metadata": {},
   "outputs": [
    {
     "ename": "KeyError",
     "evalue": "0",
     "output_type": "error",
     "traceback": [
      "\u001b[1;31m---------------------------------------------------------------------------\u001b[0m",
      "\u001b[1;31mKeyError\u001b[0m                                  Traceback (most recent call last)",
      "\u001b[1;32m~\\AppData\\Local\\Temp/ipykernel_6320/2076628923.py\u001b[0m in \u001b[0;36m<module>\u001b[1;34m\u001b[0m\n\u001b[1;32m----> 1\u001b[1;33m \u001b[0mp\u001b[0m\u001b[1;33m[\u001b[0m\u001b[1;36m0\u001b[0m\u001b[1;33m]\u001b[0m\u001b[1;33m\u001b[0m\u001b[1;33m\u001b[0m\u001b[0m\n\u001b[0m",
      "\u001b[1;31mKeyError\u001b[0m: 0"
     ]
    }
   ],
   "source": [
    "p[0]"
   ]
  },
  {
   "cell_type": "code",
   "execution_count": null,
   "id": "58c7a024",
   "metadata": {},
   "outputs": [],
   "source": [
    "p[\"name\"]"
   ]
  },
  {
   "cell_type": "code",
   "execution_count": 7,
   "id": "b83754df",
   "metadata": {},
   "outputs": [
    {
     "ename": "TypeError",
     "evalue": "unhashable type: 'dict'",
     "output_type": "error",
     "traceback": [
      "\u001b[1;31m---------------------------------------------------------------------------\u001b[0m",
      "\u001b[1;31mTypeError\u001b[0m                                 Traceback (most recent call last)",
      "\u001b[1;32m~\\AppData\\Local\\Temp/ipykernel_6320/1367850364.py\u001b[0m in \u001b[0;36m<module>\u001b[1;34m\u001b[0m\n\u001b[0;32m      1\u001b[0m \u001b[1;31m# no duplicates\u001b[0m\u001b[1;33m\u001b[0m\u001b[1;33m\u001b[0m\u001b[0m\n\u001b[1;32m----> 2\u001b[1;33m p={{\"name\":\"Ammu\", \"Age\":\"30\"\n\u001b[0m\u001b[0;32m      3\u001b[0m   },{\"name1\":\"anu\",\"Age1\":\"35\"}}\n\u001b[0;32m      4\u001b[0m \u001b[0mp\u001b[0m\u001b[1;33m\u001b[0m\u001b[1;33m\u001b[0m\u001b[0m\n",
      "\u001b[1;31mTypeError\u001b[0m: unhashable type: 'dict'"
     ]
    }
   ],
   "source": [
    "# no duplicates\n",
    "p={{\"name\":\"Ammu\", \"Age\":\"30\"},{\"name1\":\"anu\",\"Age1\":\"35\"}}\n",
    "p"
   ]
  },
  {
   "cell_type": "code",
   "execution_count": null,
   "id": "2e96a7dd",
   "metadata": {},
   "outputs": [],
   "source": [
    "#length\n",
    "len(p)\n"
   ]
  },
  {
   "cell_type": "code",
   "execution_count": 9,
   "id": "cb1b694a",
   "metadata": {},
   "outputs": [
    {
     "data": {
      "text/plain": [
       "['red', 'white', 'blue']"
      ]
     },
     "execution_count": 9,
     "metadata": {},
     "output_type": "execute_result"
    }
   ],
   "source": [
    "#any datatype\n",
    "g= {\n",
    "  \"brand\": \"Ford\",\n",
    "  \"electric\": False,\n",
    "  \"year\": 1964,\n",
    "  \"colors\": [\"red\", \"white\", \"blue\"]\n",
    "}\n",
    "g[\"colors\"]"
   ]
  },
  {
   "cell_type": "code",
   "execution_count": 10,
   "id": "6171f25c",
   "metadata": {},
   "outputs": [
    {
     "data": {
      "text/plain": [
       "dict"
      ]
     },
     "execution_count": 10,
     "metadata": {},
     "output_type": "execute_result"
    }
   ],
   "source": [
    "\n",
    "b=dict(name = \"John\", age = 36, country = \"Norway\")\n",
    "type(b)"
   ]
  },
  {
   "cell_type": "code",
   "execution_count": null,
   "id": "2b632e35",
   "metadata": {},
   "outputs": [],
   "source": [
    "#to access the dict,use get,keys\n",
    "#to see all the keys in dict\n",
    "p"
   ]
  },
  {
   "cell_type": "code",
   "execution_count": 11,
   "id": "8420af2f",
   "metadata": {},
   "outputs": [
    {
     "data": {
      "text/plain": [
       "dict_keys(['name', 'Age'])"
      ]
     },
     "execution_count": 11,
     "metadata": {},
     "output_type": "execute_result"
    }
   ],
   "source": [
    "p.keys()"
   ]
  },
  {
   "cell_type": "code",
   "execution_count": 12,
   "id": "f21ca4fc",
   "metadata": {},
   "outputs": [
    {
     "data": {
      "text/plain": [
       "dict_keys(['name', 'Age', 'gender'])"
      ]
     },
     "execution_count": 12,
     "metadata": {},
     "output_type": "execute_result"
    }
   ],
   "source": [
    "#to add a new pair\n",
    "p['gender']='F'\n",
    "p.keys()"
   ]
  },
  {
   "cell_type": "code",
   "execution_count": 13,
   "id": "74789f48",
   "metadata": {},
   "outputs": [
    {
     "data": {
      "text/plain": [
       "{'name': 'Ammu', 'Age': 31, 'gender': 'F'}"
      ]
     },
     "execution_count": 13,
     "metadata": {},
     "output_type": "execute_result"
    }
   ],
   "source": [
    "# to change edit values\n",
    "p['Age']=31\n",
    "p"
   ]
  },
  {
   "cell_type": "code",
   "execution_count": 14,
   "id": "f1ed93cc",
   "metadata": {},
   "outputs": [
    {
     "data": {
      "text/plain": [
       "'Ammu'"
      ]
     },
     "execution_count": 14,
     "metadata": {},
     "output_type": "execute_result"
    }
   ],
   "source": [
    "#get\n",
    "x=p.get('name')\n",
    "x"
   ]
  },
  {
   "cell_type": "code",
   "execution_count": 15,
   "id": "f88979c2",
   "metadata": {},
   "outputs": [
    {
     "data": {
      "text/plain": [
       "dict_values(['Ammu', 31, 'F'])"
      ]
     },
     "execution_count": 15,
     "metadata": {},
     "output_type": "execute_result"
    }
   ],
   "source": [
    "#to see values\n",
    "p.values()"
   ]
  },
  {
   "cell_type": "code",
   "execution_count": null,
   "id": "fd3846b3",
   "metadata": {},
   "outputs": [],
   "source": [
    "#to add items\n",
    "p.update({'name':'anu'})\n",
    "p"
   ]
  },
  {
   "cell_type": "code",
   "execution_count": null,
   "id": "1a4db4c8",
   "metadata": {},
   "outputs": [],
   "source": [
    "p[\"name\"]='ammu'\n",
    "p"
   ]
  },
  {
   "cell_type": "code",
   "execution_count": null,
   "id": "2bd589e1",
   "metadata": {},
   "outputs": [],
   "source": [
    "#to remove items\n",
    "p.pop('name')"
   ]
  },
  {
   "cell_type": "code",
   "execution_count": null,
   "id": "026642ff",
   "metadata": {},
   "outputs": [],
   "source": [
    "p"
   ]
  },
  {
   "cell_type": "code",
   "execution_count": 16,
   "id": "08b3601b",
   "metadata": {},
   "outputs": [
    {
     "name": "stdout",
     "output_type": "stream",
     "text": [
      "name\n",
      "Age\n",
      "gender\n"
     ]
    }
   ],
   "source": [
    "#loop\n",
    "for x in p:\n",
    "  print(x)"
   ]
  },
  {
   "cell_type": "code",
   "execution_count": 17,
   "id": "9bfb4757",
   "metadata": {},
   "outputs": [
    {
     "name": "stdout",
     "output_type": "stream",
     "text": [
      "Ammu\n",
      "31\n",
      "F\n"
     ]
    }
   ],
   "source": [
    "for i in p:\n",
    "    print(p[i])"
   ]
  },
  {
   "cell_type": "code",
   "execution_count": 18,
   "id": "60b3f2d0",
   "metadata": {},
   "outputs": [
    {
     "name": "stdout",
     "output_type": "stream",
     "text": [
      "name Ammu\n",
      "Age 31\n",
      "gender F\n"
     ]
    }
   ],
   "source": [
    "for x, y in p.items():\n",
    "  print(x, y)"
   ]
  },
  {
   "cell_type": "code",
   "execution_count": null,
   "id": "d9e1fee1",
   "metadata": {},
   "outputs": [],
   "source": []
  }
 ],
 "metadata": {
  "kernelspec": {
   "display_name": "Python 3 (ipykernel)",
   "language": "python",
   "name": "python3"
  },
  "language_info": {
   "codemirror_mode": {
    "name": "ipython",
    "version": 3
   },
   "file_extension": ".py",
   "mimetype": "text/x-python",
   "name": "python",
   "nbconvert_exporter": "python",
   "pygments_lexer": "ipython3",
   "version": "3.9.7"
  }
 },
 "nbformat": 4,
 "nbformat_minor": 5
}
